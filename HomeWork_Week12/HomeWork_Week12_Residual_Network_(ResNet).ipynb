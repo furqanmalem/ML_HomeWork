{
  "nbformat": 4,
  "nbformat_minor": 0,
  "metadata": {
    "colab": {
      "name": "HomeWork_Week12_Residual-Network_(ResNet).ipynb",
      "provenance": [],
      "authorship_tag": "ABX9TyMFg9sKXDTGOlOi+4dwXWG9",
      "include_colab_link": true
    },
    "kernelspec": {
      "name": "python3",
      "display_name": "Python 3"
    },
    "language_info": {
      "name": "python"
    },
    "widgets": {
      "application/vnd.jupyter.widget-state+json": {
        "eb6b48c2a830401bb7da46e3c8d0186d": {
          "model_module": "@jupyter-widgets/controls",
          "model_name": "HBoxModel",
          "model_module_version": "1.5.0",
          "state": {
            "_view_name": "HBoxView",
            "_dom_classes": [],
            "_model_name": "HBoxModel",
            "_view_module": "@jupyter-widgets/controls",
            "_model_module_version": "1.5.0",
            "_view_count": null,
            "_view_module_version": "1.5.0",
            "box_style": "",
            "layout": "IPY_MODEL_9e7f48e4b1894a7e8718dda2c84a8632",
            "_model_module": "@jupyter-widgets/controls",
            "children": [
              "IPY_MODEL_d5f3e2ac2b65419da70de933186d5155",
              "IPY_MODEL_b04d6babfb564d32a6611646e39fe71f",
              "IPY_MODEL_e6fd44f97d9a47ffad9304e9d0c8215b"
            ]
          }
        },
        "9e7f48e4b1894a7e8718dda2c84a8632": {
          "model_module": "@jupyter-widgets/base",
          "model_name": "LayoutModel",
          "model_module_version": "1.2.0",
          "state": {
            "_view_name": "LayoutView",
            "grid_template_rows": null,
            "right": null,
            "justify_content": null,
            "_view_module": "@jupyter-widgets/base",
            "overflow": null,
            "_model_module_version": "1.2.0",
            "_view_count": null,
            "flex_flow": null,
            "width": null,
            "min_width": null,
            "border": null,
            "align_items": null,
            "bottom": null,
            "_model_module": "@jupyter-widgets/base",
            "top": null,
            "grid_column": null,
            "overflow_y": null,
            "overflow_x": null,
            "grid_auto_flow": null,
            "grid_area": null,
            "grid_template_columns": null,
            "flex": null,
            "_model_name": "LayoutModel",
            "justify_items": null,
            "grid_row": null,
            "max_height": null,
            "align_content": null,
            "visibility": null,
            "align_self": null,
            "height": null,
            "min_height": null,
            "padding": null,
            "grid_auto_rows": null,
            "grid_gap": null,
            "max_width": null,
            "order": null,
            "_view_module_version": "1.2.0",
            "grid_template_areas": null,
            "object_position": null,
            "object_fit": null,
            "grid_auto_columns": null,
            "margin": null,
            "display": null,
            "left": null
          }
        },
        "d5f3e2ac2b65419da70de933186d5155": {
          "model_module": "@jupyter-widgets/controls",
          "model_name": "HTMLModel",
          "model_module_version": "1.5.0",
          "state": {
            "_view_name": "HTMLView",
            "style": "IPY_MODEL_c8461a00bf8a4b7aaef5ef4ebd3b05ac",
            "_dom_classes": [],
            "description": "",
            "_model_name": "HTMLModel",
            "placeholder": "​",
            "_view_module": "@jupyter-widgets/controls",
            "_model_module_version": "1.5.0",
            "value": "",
            "_view_count": null,
            "_view_module_version": "1.5.0",
            "description_tooltip": null,
            "_model_module": "@jupyter-widgets/controls",
            "layout": "IPY_MODEL_d28e8e5ba6e34edf86dcd5f7d198919b"
          }
        },
        "b04d6babfb564d32a6611646e39fe71f": {
          "model_module": "@jupyter-widgets/controls",
          "model_name": "FloatProgressModel",
          "model_module_version": "1.5.0",
          "state": {
            "_view_name": "ProgressView",
            "style": "IPY_MODEL_076971e37bc84833bb4d792e75604274",
            "_dom_classes": [],
            "description": "",
            "_model_name": "FloatProgressModel",
            "bar_style": "success",
            "max": 26421880,
            "_view_module": "@jupyter-widgets/controls",
            "_model_module_version": "1.5.0",
            "value": 26421880,
            "_view_count": null,
            "_view_module_version": "1.5.0",
            "orientation": "horizontal",
            "min": 0,
            "description_tooltip": null,
            "_model_module": "@jupyter-widgets/controls",
            "layout": "IPY_MODEL_659cc589256342438eb5b82668d797c5"
          }
        },
        "e6fd44f97d9a47ffad9304e9d0c8215b": {
          "model_module": "@jupyter-widgets/controls",
          "model_name": "HTMLModel",
          "model_module_version": "1.5.0",
          "state": {
            "_view_name": "HTMLView",
            "style": "IPY_MODEL_02f85a41772747d088c0b30169e95771",
            "_dom_classes": [],
            "description": "",
            "_model_name": "HTMLModel",
            "placeholder": "​",
            "_view_module": "@jupyter-widgets/controls",
            "_model_module_version": "1.5.0",
            "value": " 26422272/? [00:01&lt;00:00, 27015394.20it/s]",
            "_view_count": null,
            "_view_module_version": "1.5.0",
            "description_tooltip": null,
            "_model_module": "@jupyter-widgets/controls",
            "layout": "IPY_MODEL_d71e4f6271ac4eff82f70c0d08fe7ce3"
          }
        },
        "c8461a00bf8a4b7aaef5ef4ebd3b05ac": {
          "model_module": "@jupyter-widgets/controls",
          "model_name": "DescriptionStyleModel",
          "model_module_version": "1.5.0",
          "state": {
            "_view_name": "StyleView",
            "_model_name": "DescriptionStyleModel",
            "description_width": "",
            "_view_module": "@jupyter-widgets/base",
            "_model_module_version": "1.5.0",
            "_view_count": null,
            "_view_module_version": "1.2.0",
            "_model_module": "@jupyter-widgets/controls"
          }
        },
        "d28e8e5ba6e34edf86dcd5f7d198919b": {
          "model_module": "@jupyter-widgets/base",
          "model_name": "LayoutModel",
          "model_module_version": "1.2.0",
          "state": {
            "_view_name": "LayoutView",
            "grid_template_rows": null,
            "right": null,
            "justify_content": null,
            "_view_module": "@jupyter-widgets/base",
            "overflow": null,
            "_model_module_version": "1.2.0",
            "_view_count": null,
            "flex_flow": null,
            "width": null,
            "min_width": null,
            "border": null,
            "align_items": null,
            "bottom": null,
            "_model_module": "@jupyter-widgets/base",
            "top": null,
            "grid_column": null,
            "overflow_y": null,
            "overflow_x": null,
            "grid_auto_flow": null,
            "grid_area": null,
            "grid_template_columns": null,
            "flex": null,
            "_model_name": "LayoutModel",
            "justify_items": null,
            "grid_row": null,
            "max_height": null,
            "align_content": null,
            "visibility": null,
            "align_self": null,
            "height": null,
            "min_height": null,
            "padding": null,
            "grid_auto_rows": null,
            "grid_gap": null,
            "max_width": null,
            "order": null,
            "_view_module_version": "1.2.0",
            "grid_template_areas": null,
            "object_position": null,
            "object_fit": null,
            "grid_auto_columns": null,
            "margin": null,
            "display": null,
            "left": null
          }
        },
        "076971e37bc84833bb4d792e75604274": {
          "model_module": "@jupyter-widgets/controls",
          "model_name": "ProgressStyleModel",
          "model_module_version": "1.5.0",
          "state": {
            "_view_name": "StyleView",
            "_model_name": "ProgressStyleModel",
            "description_width": "",
            "_view_module": "@jupyter-widgets/base",
            "_model_module_version": "1.5.0",
            "_view_count": null,
            "_view_module_version": "1.2.0",
            "bar_color": null,
            "_model_module": "@jupyter-widgets/controls"
          }
        },
        "659cc589256342438eb5b82668d797c5": {
          "model_module": "@jupyter-widgets/base",
          "model_name": "LayoutModel",
          "model_module_version": "1.2.0",
          "state": {
            "_view_name": "LayoutView",
            "grid_template_rows": null,
            "right": null,
            "justify_content": null,
            "_view_module": "@jupyter-widgets/base",
            "overflow": null,
            "_model_module_version": "1.2.0",
            "_view_count": null,
            "flex_flow": null,
            "width": null,
            "min_width": null,
            "border": null,
            "align_items": null,
            "bottom": null,
            "_model_module": "@jupyter-widgets/base",
            "top": null,
            "grid_column": null,
            "overflow_y": null,
            "overflow_x": null,
            "grid_auto_flow": null,
            "grid_area": null,
            "grid_template_columns": null,
            "flex": null,
            "_model_name": "LayoutModel",
            "justify_items": null,
            "grid_row": null,
            "max_height": null,
            "align_content": null,
            "visibility": null,
            "align_self": null,
            "height": null,
            "min_height": null,
            "padding": null,
            "grid_auto_rows": null,
            "grid_gap": null,
            "max_width": null,
            "order": null,
            "_view_module_version": "1.2.0",
            "grid_template_areas": null,
            "object_position": null,
            "object_fit": null,
            "grid_auto_columns": null,
            "margin": null,
            "display": null,
            "left": null
          }
        },
        "02f85a41772747d088c0b30169e95771": {
          "model_module": "@jupyter-widgets/controls",
          "model_name": "DescriptionStyleModel",
          "model_module_version": "1.5.0",
          "state": {
            "_view_name": "StyleView",
            "_model_name": "DescriptionStyleModel",
            "description_width": "",
            "_view_module": "@jupyter-widgets/base",
            "_model_module_version": "1.5.0",
            "_view_count": null,
            "_view_module_version": "1.2.0",
            "_model_module": "@jupyter-widgets/controls"
          }
        },
        "d71e4f6271ac4eff82f70c0d08fe7ce3": {
          "model_module": "@jupyter-widgets/base",
          "model_name": "LayoutModel",
          "model_module_version": "1.2.0",
          "state": {
            "_view_name": "LayoutView",
            "grid_template_rows": null,
            "right": null,
            "justify_content": null,
            "_view_module": "@jupyter-widgets/base",
            "overflow": null,
            "_model_module_version": "1.2.0",
            "_view_count": null,
            "flex_flow": null,
            "width": null,
            "min_width": null,
            "border": null,
            "align_items": null,
            "bottom": null,
            "_model_module": "@jupyter-widgets/base",
            "top": null,
            "grid_column": null,
            "overflow_y": null,
            "overflow_x": null,
            "grid_auto_flow": null,
            "grid_area": null,
            "grid_template_columns": null,
            "flex": null,
            "_model_name": "LayoutModel",
            "justify_items": null,
            "grid_row": null,
            "max_height": null,
            "align_content": null,
            "visibility": null,
            "align_self": null,
            "height": null,
            "min_height": null,
            "padding": null,
            "grid_auto_rows": null,
            "grid_gap": null,
            "max_width": null,
            "order": null,
            "_view_module_version": "1.2.0",
            "grid_template_areas": null,
            "object_position": null,
            "object_fit": null,
            "grid_auto_columns": null,
            "margin": null,
            "display": null,
            "left": null
          }
        },
        "1dfe728c42df4e3b888fbd0c7e0d2944": {
          "model_module": "@jupyter-widgets/controls",
          "model_name": "HBoxModel",
          "model_module_version": "1.5.0",
          "state": {
            "_view_name": "HBoxView",
            "_dom_classes": [],
            "_model_name": "HBoxModel",
            "_view_module": "@jupyter-widgets/controls",
            "_model_module_version": "1.5.0",
            "_view_count": null,
            "_view_module_version": "1.5.0",
            "box_style": "",
            "layout": "IPY_MODEL_f4a5d0c56289424da14e47c651c38701",
            "_model_module": "@jupyter-widgets/controls",
            "children": [
              "IPY_MODEL_f7377e7e9bac435b8b6a4c2cf10cb9b9",
              "IPY_MODEL_5b1208cc03374683bb593a6a15d656c8",
              "IPY_MODEL_dd26c308b4b642caa05627f6b4e797dd"
            ]
          }
        },
        "f4a5d0c56289424da14e47c651c38701": {
          "model_module": "@jupyter-widgets/base",
          "model_name": "LayoutModel",
          "model_module_version": "1.2.0",
          "state": {
            "_view_name": "LayoutView",
            "grid_template_rows": null,
            "right": null,
            "justify_content": null,
            "_view_module": "@jupyter-widgets/base",
            "overflow": null,
            "_model_module_version": "1.2.0",
            "_view_count": null,
            "flex_flow": null,
            "width": null,
            "min_width": null,
            "border": null,
            "align_items": null,
            "bottom": null,
            "_model_module": "@jupyter-widgets/base",
            "top": null,
            "grid_column": null,
            "overflow_y": null,
            "overflow_x": null,
            "grid_auto_flow": null,
            "grid_area": null,
            "grid_template_columns": null,
            "flex": null,
            "_model_name": "LayoutModel",
            "justify_items": null,
            "grid_row": null,
            "max_height": null,
            "align_content": null,
            "visibility": null,
            "align_self": null,
            "height": null,
            "min_height": null,
            "padding": null,
            "grid_auto_rows": null,
            "grid_gap": null,
            "max_width": null,
            "order": null,
            "_view_module_version": "1.2.0",
            "grid_template_areas": null,
            "object_position": null,
            "object_fit": null,
            "grid_auto_columns": null,
            "margin": null,
            "display": null,
            "left": null
          }
        },
        "f7377e7e9bac435b8b6a4c2cf10cb9b9": {
          "model_module": "@jupyter-widgets/controls",
          "model_name": "HTMLModel",
          "model_module_version": "1.5.0",
          "state": {
            "_view_name": "HTMLView",
            "style": "IPY_MODEL_e737f7d6e69b49d7a27af2c4aed49269",
            "_dom_classes": [],
            "description": "",
            "_model_name": "HTMLModel",
            "placeholder": "​",
            "_view_module": "@jupyter-widgets/controls",
            "_model_module_version": "1.5.0",
            "value": "",
            "_view_count": null,
            "_view_module_version": "1.5.0",
            "description_tooltip": null,
            "_model_module": "@jupyter-widgets/controls",
            "layout": "IPY_MODEL_e389d60ac0df4e99806164fd195714a5"
          }
        },
        "5b1208cc03374683bb593a6a15d656c8": {
          "model_module": "@jupyter-widgets/controls",
          "model_name": "FloatProgressModel",
          "model_module_version": "1.5.0",
          "state": {
            "_view_name": "ProgressView",
            "style": "IPY_MODEL_43631db66556451f97af8c53fd92a7ce",
            "_dom_classes": [],
            "description": "",
            "_model_name": "FloatProgressModel",
            "bar_style": "success",
            "max": 29515,
            "_view_module": "@jupyter-widgets/controls",
            "_model_module_version": "1.5.0",
            "value": 29515,
            "_view_count": null,
            "_view_module_version": "1.5.0",
            "orientation": "horizontal",
            "min": 0,
            "description_tooltip": null,
            "_model_module": "@jupyter-widgets/controls",
            "layout": "IPY_MODEL_ea5a798460c8468f85929540453de99f"
          }
        },
        "dd26c308b4b642caa05627f6b4e797dd": {
          "model_module": "@jupyter-widgets/controls",
          "model_name": "HTMLModel",
          "model_module_version": "1.5.0",
          "state": {
            "_view_name": "HTMLView",
            "style": "IPY_MODEL_6e902f213884418da992d684c8e26181",
            "_dom_classes": [],
            "description": "",
            "_model_name": "HTMLModel",
            "placeholder": "​",
            "_view_module": "@jupyter-widgets/controls",
            "_model_module_version": "1.5.0",
            "value": " 29696/? [00:00&lt;00:00, 148520.91it/s]",
            "_view_count": null,
            "_view_module_version": "1.5.0",
            "description_tooltip": null,
            "_model_module": "@jupyter-widgets/controls",
            "layout": "IPY_MODEL_bb1cc128c54041028e352600fe050296"
          }
        },
        "e737f7d6e69b49d7a27af2c4aed49269": {
          "model_module": "@jupyter-widgets/controls",
          "model_name": "DescriptionStyleModel",
          "model_module_version": "1.5.0",
          "state": {
            "_view_name": "StyleView",
            "_model_name": "DescriptionStyleModel",
            "description_width": "",
            "_view_module": "@jupyter-widgets/base",
            "_model_module_version": "1.5.0",
            "_view_count": null,
            "_view_module_version": "1.2.0",
            "_model_module": "@jupyter-widgets/controls"
          }
        },
        "e389d60ac0df4e99806164fd195714a5": {
          "model_module": "@jupyter-widgets/base",
          "model_name": "LayoutModel",
          "model_module_version": "1.2.0",
          "state": {
            "_view_name": "LayoutView",
            "grid_template_rows": null,
            "right": null,
            "justify_content": null,
            "_view_module": "@jupyter-widgets/base",
            "overflow": null,
            "_model_module_version": "1.2.0",
            "_view_count": null,
            "flex_flow": null,
            "width": null,
            "min_width": null,
            "border": null,
            "align_items": null,
            "bottom": null,
            "_model_module": "@jupyter-widgets/base",
            "top": null,
            "grid_column": null,
            "overflow_y": null,
            "overflow_x": null,
            "grid_auto_flow": null,
            "grid_area": null,
            "grid_template_columns": null,
            "flex": null,
            "_model_name": "LayoutModel",
            "justify_items": null,
            "grid_row": null,
            "max_height": null,
            "align_content": null,
            "visibility": null,
            "align_self": null,
            "height": null,
            "min_height": null,
            "padding": null,
            "grid_auto_rows": null,
            "grid_gap": null,
            "max_width": null,
            "order": null,
            "_view_module_version": "1.2.0",
            "grid_template_areas": null,
            "object_position": null,
            "object_fit": null,
            "grid_auto_columns": null,
            "margin": null,
            "display": null,
            "left": null
          }
        },
        "43631db66556451f97af8c53fd92a7ce": {
          "model_module": "@jupyter-widgets/controls",
          "model_name": "ProgressStyleModel",
          "model_module_version": "1.5.0",
          "state": {
            "_view_name": "StyleView",
            "_model_name": "ProgressStyleModel",
            "description_width": "",
            "_view_module": "@jupyter-widgets/base",
            "_model_module_version": "1.5.0",
            "_view_count": null,
            "_view_module_version": "1.2.0",
            "bar_color": null,
            "_model_module": "@jupyter-widgets/controls"
          }
        },
        "ea5a798460c8468f85929540453de99f": {
          "model_module": "@jupyter-widgets/base",
          "model_name": "LayoutModel",
          "model_module_version": "1.2.0",
          "state": {
            "_view_name": "LayoutView",
            "grid_template_rows": null,
            "right": null,
            "justify_content": null,
            "_view_module": "@jupyter-widgets/base",
            "overflow": null,
            "_model_module_version": "1.2.0",
            "_view_count": null,
            "flex_flow": null,
            "width": null,
            "min_width": null,
            "border": null,
            "align_items": null,
            "bottom": null,
            "_model_module": "@jupyter-widgets/base",
            "top": null,
            "grid_column": null,
            "overflow_y": null,
            "overflow_x": null,
            "grid_auto_flow": null,
            "grid_area": null,
            "grid_template_columns": null,
            "flex": null,
            "_model_name": "LayoutModel",
            "justify_items": null,
            "grid_row": null,
            "max_height": null,
            "align_content": null,
            "visibility": null,
            "align_self": null,
            "height": null,
            "min_height": null,
            "padding": null,
            "grid_auto_rows": null,
            "grid_gap": null,
            "max_width": null,
            "order": null,
            "_view_module_version": "1.2.0",
            "grid_template_areas": null,
            "object_position": null,
            "object_fit": null,
            "grid_auto_columns": null,
            "margin": null,
            "display": null,
            "left": null
          }
        },
        "6e902f213884418da992d684c8e26181": {
          "model_module": "@jupyter-widgets/controls",
          "model_name": "DescriptionStyleModel",
          "model_module_version": "1.5.0",
          "state": {
            "_view_name": "StyleView",
            "_model_name": "DescriptionStyleModel",
            "description_width": "",
            "_view_module": "@jupyter-widgets/base",
            "_model_module_version": "1.5.0",
            "_view_count": null,
            "_view_module_version": "1.2.0",
            "_model_module": "@jupyter-widgets/controls"
          }
        },
        "bb1cc128c54041028e352600fe050296": {
          "model_module": "@jupyter-widgets/base",
          "model_name": "LayoutModel",
          "model_module_version": "1.2.0",
          "state": {
            "_view_name": "LayoutView",
            "grid_template_rows": null,
            "right": null,
            "justify_content": null,
            "_view_module": "@jupyter-widgets/base",
            "overflow": null,
            "_model_module_version": "1.2.0",
            "_view_count": null,
            "flex_flow": null,
            "width": null,
            "min_width": null,
            "border": null,
            "align_items": null,
            "bottom": null,
            "_model_module": "@jupyter-widgets/base",
            "top": null,
            "grid_column": null,
            "overflow_y": null,
            "overflow_x": null,
            "grid_auto_flow": null,
            "grid_area": null,
            "grid_template_columns": null,
            "flex": null,
            "_model_name": "LayoutModel",
            "justify_items": null,
            "grid_row": null,
            "max_height": null,
            "align_content": null,
            "visibility": null,
            "align_self": null,
            "height": null,
            "min_height": null,
            "padding": null,
            "grid_auto_rows": null,
            "grid_gap": null,
            "max_width": null,
            "order": null,
            "_view_module_version": "1.2.0",
            "grid_template_areas": null,
            "object_position": null,
            "object_fit": null,
            "grid_auto_columns": null,
            "margin": null,
            "display": null,
            "left": null
          }
        },
        "863083e3cdb64b9893f6387d20b109da": {
          "model_module": "@jupyter-widgets/controls",
          "model_name": "HBoxModel",
          "model_module_version": "1.5.0",
          "state": {
            "_view_name": "HBoxView",
            "_dom_classes": [],
            "_model_name": "HBoxModel",
            "_view_module": "@jupyter-widgets/controls",
            "_model_module_version": "1.5.0",
            "_view_count": null,
            "_view_module_version": "1.5.0",
            "box_style": "",
            "layout": "IPY_MODEL_9c7242907d1f4a9f8360487b0d4db9e7",
            "_model_module": "@jupyter-widgets/controls",
            "children": [
              "IPY_MODEL_c02544f8e443495db9059b3af3a207b3",
              "IPY_MODEL_ae880526471d4385ba52521a4c83959b",
              "IPY_MODEL_354dbadeb1304bc68295ff93827e24e6"
            ]
          }
        },
        "9c7242907d1f4a9f8360487b0d4db9e7": {
          "model_module": "@jupyter-widgets/base",
          "model_name": "LayoutModel",
          "model_module_version": "1.2.0",
          "state": {
            "_view_name": "LayoutView",
            "grid_template_rows": null,
            "right": null,
            "justify_content": null,
            "_view_module": "@jupyter-widgets/base",
            "overflow": null,
            "_model_module_version": "1.2.0",
            "_view_count": null,
            "flex_flow": null,
            "width": null,
            "min_width": null,
            "border": null,
            "align_items": null,
            "bottom": null,
            "_model_module": "@jupyter-widgets/base",
            "top": null,
            "grid_column": null,
            "overflow_y": null,
            "overflow_x": null,
            "grid_auto_flow": null,
            "grid_area": null,
            "grid_template_columns": null,
            "flex": null,
            "_model_name": "LayoutModel",
            "justify_items": null,
            "grid_row": null,
            "max_height": null,
            "align_content": null,
            "visibility": null,
            "align_self": null,
            "height": null,
            "min_height": null,
            "padding": null,
            "grid_auto_rows": null,
            "grid_gap": null,
            "max_width": null,
            "order": null,
            "_view_module_version": "1.2.0",
            "grid_template_areas": null,
            "object_position": null,
            "object_fit": null,
            "grid_auto_columns": null,
            "margin": null,
            "display": null,
            "left": null
          }
        },
        "c02544f8e443495db9059b3af3a207b3": {
          "model_module": "@jupyter-widgets/controls",
          "model_name": "HTMLModel",
          "model_module_version": "1.5.0",
          "state": {
            "_view_name": "HTMLView",
            "style": "IPY_MODEL_375be14f29e24eb3a59abfebb266636b",
            "_dom_classes": [],
            "description": "",
            "_model_name": "HTMLModel",
            "placeholder": "​",
            "_view_module": "@jupyter-widgets/controls",
            "_model_module_version": "1.5.0",
            "value": "",
            "_view_count": null,
            "_view_module_version": "1.5.0",
            "description_tooltip": null,
            "_model_module": "@jupyter-widgets/controls",
            "layout": "IPY_MODEL_2c51d3bdea88443f84f890b016e6fd71"
          }
        },
        "ae880526471d4385ba52521a4c83959b": {
          "model_module": "@jupyter-widgets/controls",
          "model_name": "FloatProgressModel",
          "model_module_version": "1.5.0",
          "state": {
            "_view_name": "ProgressView",
            "style": "IPY_MODEL_f5319ab03987400e87109c1af59d38bc",
            "_dom_classes": [],
            "description": "",
            "_model_name": "FloatProgressModel",
            "bar_style": "success",
            "max": 4422102,
            "_view_module": "@jupyter-widgets/controls",
            "_model_module_version": "1.5.0",
            "value": 4422102,
            "_view_count": null,
            "_view_module_version": "1.5.0",
            "orientation": "horizontal",
            "min": 0,
            "description_tooltip": null,
            "_model_module": "@jupyter-widgets/controls",
            "layout": "IPY_MODEL_6b85cbb2b1e8484dad01f4da4b7170af"
          }
        },
        "354dbadeb1304bc68295ff93827e24e6": {
          "model_module": "@jupyter-widgets/controls",
          "model_name": "HTMLModel",
          "model_module_version": "1.5.0",
          "state": {
            "_view_name": "HTMLView",
            "style": "IPY_MODEL_90a67245ca6e4169a65b1688b50f1760",
            "_dom_classes": [],
            "description": "",
            "_model_name": "HTMLModel",
            "placeholder": "​",
            "_view_module": "@jupyter-widgets/controls",
            "_model_module_version": "1.5.0",
            "value": " 4422656/? [00:00&lt;00:00, 9831736.54it/s]",
            "_view_count": null,
            "_view_module_version": "1.5.0",
            "description_tooltip": null,
            "_model_module": "@jupyter-widgets/controls",
            "layout": "IPY_MODEL_dd7970695ff249fdac09cb24ce67c38d"
          }
        },
        "375be14f29e24eb3a59abfebb266636b": {
          "model_module": "@jupyter-widgets/controls",
          "model_name": "DescriptionStyleModel",
          "model_module_version": "1.5.0",
          "state": {
            "_view_name": "StyleView",
            "_model_name": "DescriptionStyleModel",
            "description_width": "",
            "_view_module": "@jupyter-widgets/base",
            "_model_module_version": "1.5.0",
            "_view_count": null,
            "_view_module_version": "1.2.0",
            "_model_module": "@jupyter-widgets/controls"
          }
        },
        "2c51d3bdea88443f84f890b016e6fd71": {
          "model_module": "@jupyter-widgets/base",
          "model_name": "LayoutModel",
          "model_module_version": "1.2.0",
          "state": {
            "_view_name": "LayoutView",
            "grid_template_rows": null,
            "right": null,
            "justify_content": null,
            "_view_module": "@jupyter-widgets/base",
            "overflow": null,
            "_model_module_version": "1.2.0",
            "_view_count": null,
            "flex_flow": null,
            "width": null,
            "min_width": null,
            "border": null,
            "align_items": null,
            "bottom": null,
            "_model_module": "@jupyter-widgets/base",
            "top": null,
            "grid_column": null,
            "overflow_y": null,
            "overflow_x": null,
            "grid_auto_flow": null,
            "grid_area": null,
            "grid_template_columns": null,
            "flex": null,
            "_model_name": "LayoutModel",
            "justify_items": null,
            "grid_row": null,
            "max_height": null,
            "align_content": null,
            "visibility": null,
            "align_self": null,
            "height": null,
            "min_height": null,
            "padding": null,
            "grid_auto_rows": null,
            "grid_gap": null,
            "max_width": null,
            "order": null,
            "_view_module_version": "1.2.0",
            "grid_template_areas": null,
            "object_position": null,
            "object_fit": null,
            "grid_auto_columns": null,
            "margin": null,
            "display": null,
            "left": null
          }
        },
        "f5319ab03987400e87109c1af59d38bc": {
          "model_module": "@jupyter-widgets/controls",
          "model_name": "ProgressStyleModel",
          "model_module_version": "1.5.0",
          "state": {
            "_view_name": "StyleView",
            "_model_name": "ProgressStyleModel",
            "description_width": "",
            "_view_module": "@jupyter-widgets/base",
            "_model_module_version": "1.5.0",
            "_view_count": null,
            "_view_module_version": "1.2.0",
            "bar_color": null,
            "_model_module": "@jupyter-widgets/controls"
          }
        },
        "6b85cbb2b1e8484dad01f4da4b7170af": {
          "model_module": "@jupyter-widgets/base",
          "model_name": "LayoutModel",
          "model_module_version": "1.2.0",
          "state": {
            "_view_name": "LayoutView",
            "grid_template_rows": null,
            "right": null,
            "justify_content": null,
            "_view_module": "@jupyter-widgets/base",
            "overflow": null,
            "_model_module_version": "1.2.0",
            "_view_count": null,
            "flex_flow": null,
            "width": null,
            "min_width": null,
            "border": null,
            "align_items": null,
            "bottom": null,
            "_model_module": "@jupyter-widgets/base",
            "top": null,
            "grid_column": null,
            "overflow_y": null,
            "overflow_x": null,
            "grid_auto_flow": null,
            "grid_area": null,
            "grid_template_columns": null,
            "flex": null,
            "_model_name": "LayoutModel",
            "justify_items": null,
            "grid_row": null,
            "max_height": null,
            "align_content": null,
            "visibility": null,
            "align_self": null,
            "height": null,
            "min_height": null,
            "padding": null,
            "grid_auto_rows": null,
            "grid_gap": null,
            "max_width": null,
            "order": null,
            "_view_module_version": "1.2.0",
            "grid_template_areas": null,
            "object_position": null,
            "object_fit": null,
            "grid_auto_columns": null,
            "margin": null,
            "display": null,
            "left": null
          }
        },
        "90a67245ca6e4169a65b1688b50f1760": {
          "model_module": "@jupyter-widgets/controls",
          "model_name": "DescriptionStyleModel",
          "model_module_version": "1.5.0",
          "state": {
            "_view_name": "StyleView",
            "_model_name": "DescriptionStyleModel",
            "description_width": "",
            "_view_module": "@jupyter-widgets/base",
            "_model_module_version": "1.5.0",
            "_view_count": null,
            "_view_module_version": "1.2.0",
            "_model_module": "@jupyter-widgets/controls"
          }
        },
        "dd7970695ff249fdac09cb24ce67c38d": {
          "model_module": "@jupyter-widgets/base",
          "model_name": "LayoutModel",
          "model_module_version": "1.2.0",
          "state": {
            "_view_name": "LayoutView",
            "grid_template_rows": null,
            "right": null,
            "justify_content": null,
            "_view_module": "@jupyter-widgets/base",
            "overflow": null,
            "_model_module_version": "1.2.0",
            "_view_count": null,
            "flex_flow": null,
            "width": null,
            "min_width": null,
            "border": null,
            "align_items": null,
            "bottom": null,
            "_model_module": "@jupyter-widgets/base",
            "top": null,
            "grid_column": null,
            "overflow_y": null,
            "overflow_x": null,
            "grid_auto_flow": null,
            "grid_area": null,
            "grid_template_columns": null,
            "flex": null,
            "_model_name": "LayoutModel",
            "justify_items": null,
            "grid_row": null,
            "max_height": null,
            "align_content": null,
            "visibility": null,
            "align_self": null,
            "height": null,
            "min_height": null,
            "padding": null,
            "grid_auto_rows": null,
            "grid_gap": null,
            "max_width": null,
            "order": null,
            "_view_module_version": "1.2.0",
            "grid_template_areas": null,
            "object_position": null,
            "object_fit": null,
            "grid_auto_columns": null,
            "margin": null,
            "display": null,
            "left": null
          }
        },
        "972f584b5a824b93b917749b9a5ab30f": {
          "model_module": "@jupyter-widgets/controls",
          "model_name": "HBoxModel",
          "model_module_version": "1.5.0",
          "state": {
            "_view_name": "HBoxView",
            "_dom_classes": [],
            "_model_name": "HBoxModel",
            "_view_module": "@jupyter-widgets/controls",
            "_model_module_version": "1.5.0",
            "_view_count": null,
            "_view_module_version": "1.5.0",
            "box_style": "",
            "layout": "IPY_MODEL_cfe781ba181d4453ade372f53c45a344",
            "_model_module": "@jupyter-widgets/controls",
            "children": [
              "IPY_MODEL_de1bbd67a0cb4bacbe6d5dfe407db6b1",
              "IPY_MODEL_f99c8503759143fdb486796096a76166",
              "IPY_MODEL_3d602c94ae6142ed9958b0f3d0dfa165"
            ]
          }
        },
        "cfe781ba181d4453ade372f53c45a344": {
          "model_module": "@jupyter-widgets/base",
          "model_name": "LayoutModel",
          "model_module_version": "1.2.0",
          "state": {
            "_view_name": "LayoutView",
            "grid_template_rows": null,
            "right": null,
            "justify_content": null,
            "_view_module": "@jupyter-widgets/base",
            "overflow": null,
            "_model_module_version": "1.2.0",
            "_view_count": null,
            "flex_flow": null,
            "width": null,
            "min_width": null,
            "border": null,
            "align_items": null,
            "bottom": null,
            "_model_module": "@jupyter-widgets/base",
            "top": null,
            "grid_column": null,
            "overflow_y": null,
            "overflow_x": null,
            "grid_auto_flow": null,
            "grid_area": null,
            "grid_template_columns": null,
            "flex": null,
            "_model_name": "LayoutModel",
            "justify_items": null,
            "grid_row": null,
            "max_height": null,
            "align_content": null,
            "visibility": null,
            "align_self": null,
            "height": null,
            "min_height": null,
            "padding": null,
            "grid_auto_rows": null,
            "grid_gap": null,
            "max_width": null,
            "order": null,
            "_view_module_version": "1.2.0",
            "grid_template_areas": null,
            "object_position": null,
            "object_fit": null,
            "grid_auto_columns": null,
            "margin": null,
            "display": null,
            "left": null
          }
        },
        "de1bbd67a0cb4bacbe6d5dfe407db6b1": {
          "model_module": "@jupyter-widgets/controls",
          "model_name": "HTMLModel",
          "model_module_version": "1.5.0",
          "state": {
            "_view_name": "HTMLView",
            "style": "IPY_MODEL_291e0985cdff440097e0b7dd8c5be12e",
            "_dom_classes": [],
            "description": "",
            "_model_name": "HTMLModel",
            "placeholder": "​",
            "_view_module": "@jupyter-widgets/controls",
            "_model_module_version": "1.5.0",
            "value": "",
            "_view_count": null,
            "_view_module_version": "1.5.0",
            "description_tooltip": null,
            "_model_module": "@jupyter-widgets/controls",
            "layout": "IPY_MODEL_3b277be8b52e472c9e2e5c70d16cd4d7"
          }
        },
        "f99c8503759143fdb486796096a76166": {
          "model_module": "@jupyter-widgets/controls",
          "model_name": "FloatProgressModel",
          "model_module_version": "1.5.0",
          "state": {
            "_view_name": "ProgressView",
            "style": "IPY_MODEL_91b2c6b9eb2747a1aee0e0692c50a30d",
            "_dom_classes": [],
            "description": "",
            "_model_name": "FloatProgressModel",
            "bar_style": "success",
            "max": 5148,
            "_view_module": "@jupyter-widgets/controls",
            "_model_module_version": "1.5.0",
            "value": 5148,
            "_view_count": null,
            "_view_module_version": "1.5.0",
            "orientation": "horizontal",
            "min": 0,
            "description_tooltip": null,
            "_model_module": "@jupyter-widgets/controls",
            "layout": "IPY_MODEL_e656ee96f0334b7f9f19aaae8d33b0be"
          }
        },
        "3d602c94ae6142ed9958b0f3d0dfa165": {
          "model_module": "@jupyter-widgets/controls",
          "model_name": "HTMLModel",
          "model_module_version": "1.5.0",
          "state": {
            "_view_name": "HTMLView",
            "style": "IPY_MODEL_dd5acb844337470897e9f9c5a608141b",
            "_dom_classes": [],
            "description": "",
            "_model_name": "HTMLModel",
            "placeholder": "​",
            "_view_module": "@jupyter-widgets/controls",
            "_model_module_version": "1.5.0",
            "value": " 6144/? [00:00&lt;00:00, 111384.97it/s]",
            "_view_count": null,
            "_view_module_version": "1.5.0",
            "description_tooltip": null,
            "_model_module": "@jupyter-widgets/controls",
            "layout": "IPY_MODEL_f6e59bc5a49c4fe19cf4f01573e4a61a"
          }
        },
        "291e0985cdff440097e0b7dd8c5be12e": {
          "model_module": "@jupyter-widgets/controls",
          "model_name": "DescriptionStyleModel",
          "model_module_version": "1.5.0",
          "state": {
            "_view_name": "StyleView",
            "_model_name": "DescriptionStyleModel",
            "description_width": "",
            "_view_module": "@jupyter-widgets/base",
            "_model_module_version": "1.5.0",
            "_view_count": null,
            "_view_module_version": "1.2.0",
            "_model_module": "@jupyter-widgets/controls"
          }
        },
        "3b277be8b52e472c9e2e5c70d16cd4d7": {
          "model_module": "@jupyter-widgets/base",
          "model_name": "LayoutModel",
          "model_module_version": "1.2.0",
          "state": {
            "_view_name": "LayoutView",
            "grid_template_rows": null,
            "right": null,
            "justify_content": null,
            "_view_module": "@jupyter-widgets/base",
            "overflow": null,
            "_model_module_version": "1.2.0",
            "_view_count": null,
            "flex_flow": null,
            "width": null,
            "min_width": null,
            "border": null,
            "align_items": null,
            "bottom": null,
            "_model_module": "@jupyter-widgets/base",
            "top": null,
            "grid_column": null,
            "overflow_y": null,
            "overflow_x": null,
            "grid_auto_flow": null,
            "grid_area": null,
            "grid_template_columns": null,
            "flex": null,
            "_model_name": "LayoutModel",
            "justify_items": null,
            "grid_row": null,
            "max_height": null,
            "align_content": null,
            "visibility": null,
            "align_self": null,
            "height": null,
            "min_height": null,
            "padding": null,
            "grid_auto_rows": null,
            "grid_gap": null,
            "max_width": null,
            "order": null,
            "_view_module_version": "1.2.0",
            "grid_template_areas": null,
            "object_position": null,
            "object_fit": null,
            "grid_auto_columns": null,
            "margin": null,
            "display": null,
            "left": null
          }
        },
        "91b2c6b9eb2747a1aee0e0692c50a30d": {
          "model_module": "@jupyter-widgets/controls",
          "model_name": "ProgressStyleModel",
          "model_module_version": "1.5.0",
          "state": {
            "_view_name": "StyleView",
            "_model_name": "ProgressStyleModel",
            "description_width": "",
            "_view_module": "@jupyter-widgets/base",
            "_model_module_version": "1.5.0",
            "_view_count": null,
            "_view_module_version": "1.2.0",
            "bar_color": null,
            "_model_module": "@jupyter-widgets/controls"
          }
        },
        "e656ee96f0334b7f9f19aaae8d33b0be": {
          "model_module": "@jupyter-widgets/base",
          "model_name": "LayoutModel",
          "model_module_version": "1.2.0",
          "state": {
            "_view_name": "LayoutView",
            "grid_template_rows": null,
            "right": null,
            "justify_content": null,
            "_view_module": "@jupyter-widgets/base",
            "overflow": null,
            "_model_module_version": "1.2.0",
            "_view_count": null,
            "flex_flow": null,
            "width": null,
            "min_width": null,
            "border": null,
            "align_items": null,
            "bottom": null,
            "_model_module": "@jupyter-widgets/base",
            "top": null,
            "grid_column": null,
            "overflow_y": null,
            "overflow_x": null,
            "grid_auto_flow": null,
            "grid_area": null,
            "grid_template_columns": null,
            "flex": null,
            "_model_name": "LayoutModel",
            "justify_items": null,
            "grid_row": null,
            "max_height": null,
            "align_content": null,
            "visibility": null,
            "align_self": null,
            "height": null,
            "min_height": null,
            "padding": null,
            "grid_auto_rows": null,
            "grid_gap": null,
            "max_width": null,
            "order": null,
            "_view_module_version": "1.2.0",
            "grid_template_areas": null,
            "object_position": null,
            "object_fit": null,
            "grid_auto_columns": null,
            "margin": null,
            "display": null,
            "left": null
          }
        },
        "dd5acb844337470897e9f9c5a608141b": {
          "model_module": "@jupyter-widgets/controls",
          "model_name": "DescriptionStyleModel",
          "model_module_version": "1.5.0",
          "state": {
            "_view_name": "StyleView",
            "_model_name": "DescriptionStyleModel",
            "description_width": "",
            "_view_module": "@jupyter-widgets/base",
            "_model_module_version": "1.5.0",
            "_view_count": null,
            "_view_module_version": "1.2.0",
            "_model_module": "@jupyter-widgets/controls"
          }
        },
        "f6e59bc5a49c4fe19cf4f01573e4a61a": {
          "model_module": "@jupyter-widgets/base",
          "model_name": "LayoutModel",
          "model_module_version": "1.2.0",
          "state": {
            "_view_name": "LayoutView",
            "grid_template_rows": null,
            "right": null,
            "justify_content": null,
            "_view_module": "@jupyter-widgets/base",
            "overflow": null,
            "_model_module_version": "1.2.0",
            "_view_count": null,
            "flex_flow": null,
            "width": null,
            "min_width": null,
            "border": null,
            "align_items": null,
            "bottom": null,
            "_model_module": "@jupyter-widgets/base",
            "top": null,
            "grid_column": null,
            "overflow_y": null,
            "overflow_x": null,
            "grid_auto_flow": null,
            "grid_area": null,
            "grid_template_columns": null,
            "flex": null,
            "_model_name": "LayoutModel",
            "justify_items": null,
            "grid_row": null,
            "max_height": null,
            "align_content": null,
            "visibility": null,
            "align_self": null,
            "height": null,
            "min_height": null,
            "padding": null,
            "grid_auto_rows": null,
            "grid_gap": null,
            "max_width": null,
            "order": null,
            "_view_module_version": "1.2.0",
            "grid_template_areas": null,
            "object_position": null,
            "object_fit": null,
            "grid_auto_columns": null,
            "margin": null,
            "display": null,
            "left": null
          }
        }
      }
    }
  },
  "cells": [
    {
      "cell_type": "markdown",
      "metadata": {
        "id": "view-in-github",
        "colab_type": "text"
      },
      "source": [
        "<a href=\"https://colab.research.google.com/github/furqanmalem/ML_HomeWork/blob/main/HomeWork_Week12/HomeWork_Week12_Residual_Network_(ResNet).ipynb\" target=\"_parent\"><img src=\"https://colab.research.google.com/assets/colab-badge.svg\" alt=\"Open In Colab\"/></a>"
      ]
    },
    {
      "cell_type": "markdown",
      "source": [
        "#Residual Networks (ResNet)\n",
        "As we design increasingly deeper networks it becomes imperative to understand how adding layers can increase the complexity and expressiveness of the network. "
      ],
      "metadata": {
        "id": "HAyDjKm0PwBR"
      }
    },
    {
      "cell_type": "markdown",
      "source": [
        "##Residual Blocks"
      ],
      "metadata": {
        "id": "l4r7I-FJP4oK"
      }
    },
    {
      "cell_type": "code",
      "execution_count": 2,
      "metadata": {
        "id": "i_bUt5UkO_FB"
      },
      "outputs": [],
      "source": [
        "import torch\n",
        "from torch import nn\n",
        "from torch.nn import functional as F\n",
        "from d2l import torch as d2l\n",
        "\n",
        "\n",
        "class Residual(nn.Module):  \n",
        "    \"\"\"The Residual block of ResNet.\"\"\"\n",
        "    def __init__(self, input_channels, num_channels,\n",
        "                 use_1x1conv=False, strides=1):\n",
        "        super().__init__()\n",
        "        self.conv1 = nn.Conv2d(input_channels, num_channels,\n",
        "                               kernel_size=3, padding=1, stride=strides)\n",
        "        self.conv2 = nn.Conv2d(num_channels, num_channels,\n",
        "                               kernel_size=3, padding=1)\n",
        "        if use_1x1conv:\n",
        "            self.conv3 = nn.Conv2d(input_channels, num_channels,\n",
        "                                   kernel_size=1, stride=strides)\n",
        "        else:\n",
        "            self.conv3 = None\n",
        "        self.bn1 = nn.BatchNorm2d(num_channels)\n",
        "        self.bn2 = nn.BatchNorm2d(num_channels)\n",
        "\n",
        "    def forward(self, X):\n",
        "        Y = F.relu(self.bn1(self.conv1(X)))\n",
        "        Y = self.bn2(self.conv2(Y))\n",
        "        if self.conv3:\n",
        "            X = self.conv3(X)\n",
        "        Y += X\n",
        "        return F.relu(Y)"
      ]
    },
    {
      "cell_type": "markdown",
      "source": [
        "Now let us look at a situation where the input and output are of the same shape."
      ],
      "metadata": {
        "id": "rV4bgbIFQHfw"
      }
    },
    {
      "cell_type": "code",
      "source": [
        "blk = Residual(3,3)\n",
        "X = torch.rand(4, 3, 6, 6)\n",
        "Y = blk(X)\n",
        "Y.shape"
      ],
      "metadata": {
        "id": "awGGyne1QIZN",
        "colab": {
          "base_uri": "https://localhost:8080/"
        },
        "outputId": "c804a2d2-fc34-4af7-cc9c-c6b640235e2a"
      },
      "execution_count": 3,
      "outputs": [
        {
          "output_type": "execute_result",
          "data": {
            "text/plain": [
              "torch.Size([4, 3, 6, 6])"
            ]
          },
          "metadata": {},
          "execution_count": 3
        }
      ]
    },
    {
      "cell_type": "markdown",
      "source": [
        "We also have the option to halve the output height and width while increasing the number of output channels."
      ],
      "metadata": {
        "id": "RWvWKxnxQKAa"
      }
    },
    {
      "cell_type": "code",
      "source": [
        "blk = Residual(3,6, use_1x1conv=True, strides=2)\n",
        "blk(X).shape"
      ],
      "metadata": {
        "id": "o69oYCOUQKzO",
        "colab": {
          "base_uri": "https://localhost:8080/"
        },
        "outputId": "7f00c6c4-5b6c-4890-d8d7-83e2c0457d75"
      },
      "execution_count": 4,
      "outputs": [
        {
          "output_type": "execute_result",
          "data": {
            "text/plain": [
              "torch.Size([4, 6, 3, 3])"
            ]
          },
          "metadata": {},
          "execution_count": 4
        }
      ]
    },
    {
      "cell_type": "markdown",
      "source": [
        "##ResNet Model\n",
        "The first two layers of ResNet are the same as those of the GoogLeNet we described before: the  7×7  convolutional layer with 64 output channels and a stride of 2 is followed by the  3×3  maximum pooling layer with a stride of 2. The difference is the batch normalization layer added after each convolutional layer in ResNet.\n"
      ],
      "metadata": {
        "id": "QhYNWaBjQMQU"
      }
    },
    {
      "cell_type": "code",
      "source": [
        "b1 = nn.Sequential(nn.Conv2d(1, 64, kernel_size=7, stride=2, padding=3),\n",
        "                   nn.BatchNorm2d(64), nn.ReLU(),\n",
        "                   nn.MaxPool2d(kernel_size=3, stride=2, padding=1))"
      ],
      "metadata": {
        "id": "THdfw_izQV_u"
      },
      "execution_count": 5,
      "outputs": []
    },
    {
      "cell_type": "markdown",
      "source": [
        "ResNet uses four modules made up of residual blocks, each of which uses several residual blocks with the same number of output channels.\n",
        "\n",
        "Now, we implement this module. Note that special processing has been performed on the first module."
      ],
      "metadata": {
        "id": "Sj1JPN5-QVg7"
      }
    },
    {
      "cell_type": "code",
      "source": [
        "def resnet_block(input_channels, num_channels, num_residuals,\n",
        "                 first_block=False):\n",
        "    blk = []\n",
        "    for i in range(num_residuals):\n",
        "        if i == 0 and not first_block:\n",
        "            blk.append(Residual(input_channels, num_channels,\n",
        "                                use_1x1conv=True, strides=2))\n",
        "        else:\n",
        "            blk.append(Residual(num_channels, num_channels))\n",
        "    return blk"
      ],
      "metadata": {
        "id": "UTr7y0x1Qjl4"
      },
      "execution_count": 6,
      "outputs": []
    },
    {
      "cell_type": "markdown",
      "source": [
        "Then, we add all the modules to ResNet. Here, two residual blocks are used for each module."
      ],
      "metadata": {
        "id": "5l0yCSoGQlQ3"
      }
    },
    {
      "cell_type": "code",
      "source": [
        "b2 = nn.Sequential(*resnet_block(64, 64, 2, first_block=True))\n",
        "b3 = nn.Sequential(*resnet_block(64, 128, 2))\n",
        "b4 = nn.Sequential(*resnet_block(128, 256, 2))\n",
        "b5 = nn.Sequential(*resnet_block(256, 512, 2))"
      ],
      "metadata": {
        "id": "LzZ7zaqVQl8x"
      },
      "execution_count": 7,
      "outputs": []
    },
    {
      "cell_type": "markdown",
      "source": [
        "Finally, just like GoogLeNet, we add a global average pooling layer, followed by the fully-connected layer output."
      ],
      "metadata": {
        "id": "pmk96lZ9QnQI"
      }
    },
    {
      "cell_type": "code",
      "source": [
        "net = nn.Sequential(b1, b2, b3, b4, b5,\n",
        "                    nn.AdaptiveAvgPool2d((1,1)),\n",
        "                    nn.Flatten(), nn.Linear(512, 10))"
      ],
      "metadata": {
        "id": "WPiNsvhzQocO"
      },
      "execution_count": 8,
      "outputs": []
    },
    {
      "cell_type": "markdown",
      "source": [
        "Before training ResNet, let us observe how the input shape changes across different modules in ResNet. As in all the previous architectures, the resolution decreases while the number of channels increases up until the point where a global average pooling layer aggregates all features."
      ],
      "metadata": {
        "id": "0kB3syyeQ1us"
      }
    },
    {
      "cell_type": "code",
      "source": [
        "X = torch.rand(size=(1, 1, 224, 224))\n",
        "for layer in net:\n",
        "    X = layer(X)\n",
        "    print(layer.__class__.__name__,'output shape:\\t', X.shape)"
      ],
      "metadata": {
        "id": "UDxrttUgQ4Si",
        "colab": {
          "base_uri": "https://localhost:8080/"
        },
        "outputId": "1936d518-353b-4a66-f5cd-5547ae5936e6"
      },
      "execution_count": 9,
      "outputs": [
        {
          "output_type": "stream",
          "name": "stdout",
          "text": [
            "Sequential output shape:\t torch.Size([1, 64, 56, 56])\n",
            "Sequential output shape:\t torch.Size([1, 64, 56, 56])\n",
            "Sequential output shape:\t torch.Size([1, 128, 28, 28])\n",
            "Sequential output shape:\t torch.Size([1, 256, 14, 14])\n",
            "Sequential output shape:\t torch.Size([1, 512, 7, 7])\n",
            "AdaptiveAvgPool2d output shape:\t torch.Size([1, 512, 1, 1])\n",
            "Flatten output shape:\t torch.Size([1, 512])\n",
            "Linear output shape:\t torch.Size([1, 10])\n"
          ]
        }
      ]
    },
    {
      "cell_type": "markdown",
      "source": [
        "##Training\n",
        "train ResNet on the Fashion-MNIST dataset."
      ],
      "metadata": {
        "id": "br3y6O9vQ6BS"
      }
    },
    {
      "cell_type": "code",
      "source": [
        "lr, num_epochs, batch_size = 0.05, 10, 256\n",
        "train_iter, test_iter = d2l.load_data_fashion_mnist(batch_size, resize=96)\n",
        "d2l.train_ch6(net, train_iter, test_iter, num_epochs, lr, d2l.try_gpu())"
      ],
      "metadata": {
        "id": "coMWp8w6Q96o",
        "colab": {
          "base_uri": "https://localhost:8080/",
          "height": 510,
          "referenced_widgets": [
            "eb6b48c2a830401bb7da46e3c8d0186d",
            "9e7f48e4b1894a7e8718dda2c84a8632",
            "d5f3e2ac2b65419da70de933186d5155",
            "b04d6babfb564d32a6611646e39fe71f",
            "e6fd44f97d9a47ffad9304e9d0c8215b",
            "c8461a00bf8a4b7aaef5ef4ebd3b05ac",
            "d28e8e5ba6e34edf86dcd5f7d198919b",
            "076971e37bc84833bb4d792e75604274",
            "659cc589256342438eb5b82668d797c5",
            "02f85a41772747d088c0b30169e95771",
            "d71e4f6271ac4eff82f70c0d08fe7ce3",
            "1dfe728c42df4e3b888fbd0c7e0d2944",
            "f4a5d0c56289424da14e47c651c38701",
            "f7377e7e9bac435b8b6a4c2cf10cb9b9",
            "5b1208cc03374683bb593a6a15d656c8",
            "dd26c308b4b642caa05627f6b4e797dd",
            "e737f7d6e69b49d7a27af2c4aed49269",
            "e389d60ac0df4e99806164fd195714a5",
            "43631db66556451f97af8c53fd92a7ce",
            "ea5a798460c8468f85929540453de99f",
            "6e902f213884418da992d684c8e26181",
            "bb1cc128c54041028e352600fe050296",
            "863083e3cdb64b9893f6387d20b109da",
            "9c7242907d1f4a9f8360487b0d4db9e7",
            "c02544f8e443495db9059b3af3a207b3",
            "ae880526471d4385ba52521a4c83959b",
            "354dbadeb1304bc68295ff93827e24e6",
            "375be14f29e24eb3a59abfebb266636b",
            "2c51d3bdea88443f84f890b016e6fd71",
            "f5319ab03987400e87109c1af59d38bc",
            "6b85cbb2b1e8484dad01f4da4b7170af",
            "90a67245ca6e4169a65b1688b50f1760",
            "dd7970695ff249fdac09cb24ce67c38d",
            "972f584b5a824b93b917749b9a5ab30f",
            "cfe781ba181d4453ade372f53c45a344",
            "de1bbd67a0cb4bacbe6d5dfe407db6b1",
            "f99c8503759143fdb486796096a76166",
            "3d602c94ae6142ed9958b0f3d0dfa165",
            "291e0985cdff440097e0b7dd8c5be12e",
            "3b277be8b52e472c9e2e5c70d16cd4d7",
            "91b2c6b9eb2747a1aee0e0692c50a30d",
            "e656ee96f0334b7f9f19aaae8d33b0be",
            "dd5acb844337470897e9f9c5a608141b",
            "f6e59bc5a49c4fe19cf4f01573e4a61a"
          ]
        },
        "outputId": "1b4b6e97-314d-4b6e-bbda-038b9a6934b8"
      },
      "execution_count": null,
      "outputs": [
        {
          "output_type": "stream",
          "name": "stdout",
          "text": [
            "Downloading http://fashion-mnist.s3-website.eu-central-1.amazonaws.com/train-images-idx3-ubyte.gz\n",
            "Downloading http://fashion-mnist.s3-website.eu-central-1.amazonaws.com/train-images-idx3-ubyte.gz to ../data/FashionMNIST/raw/train-images-idx3-ubyte.gz\n"
          ]
        },
        {
          "output_type": "display_data",
          "data": {
            "application/vnd.jupyter.widget-view+json": {
              "model_id": "eb6b48c2a830401bb7da46e3c8d0186d",
              "version_minor": 0,
              "version_major": 2
            },
            "text/plain": [
              "  0%|          | 0/26421880 [00:00<?, ?it/s]"
            ]
          },
          "metadata": {}
        },
        {
          "output_type": "stream",
          "name": "stdout",
          "text": [
            "Extracting ../data/FashionMNIST/raw/train-images-idx3-ubyte.gz to ../data/FashionMNIST/raw\n",
            "\n",
            "Downloading http://fashion-mnist.s3-website.eu-central-1.amazonaws.com/train-labels-idx1-ubyte.gz\n",
            "Downloading http://fashion-mnist.s3-website.eu-central-1.amazonaws.com/train-labels-idx1-ubyte.gz to ../data/FashionMNIST/raw/train-labels-idx1-ubyte.gz\n"
          ]
        },
        {
          "output_type": "display_data",
          "data": {
            "application/vnd.jupyter.widget-view+json": {
              "model_id": "1dfe728c42df4e3b888fbd0c7e0d2944",
              "version_minor": 0,
              "version_major": 2
            },
            "text/plain": [
              "  0%|          | 0/29515 [00:00<?, ?it/s]"
            ]
          },
          "metadata": {}
        },
        {
          "output_type": "stream",
          "name": "stdout",
          "text": [
            "Extracting ../data/FashionMNIST/raw/train-labels-idx1-ubyte.gz to ../data/FashionMNIST/raw\n",
            "\n",
            "Downloading http://fashion-mnist.s3-website.eu-central-1.amazonaws.com/t10k-images-idx3-ubyte.gz\n",
            "Downloading http://fashion-mnist.s3-website.eu-central-1.amazonaws.com/t10k-images-idx3-ubyte.gz to ../data/FashionMNIST/raw/t10k-images-idx3-ubyte.gz\n"
          ]
        },
        {
          "output_type": "display_data",
          "data": {
            "application/vnd.jupyter.widget-view+json": {
              "model_id": "863083e3cdb64b9893f6387d20b109da",
              "version_minor": 0,
              "version_major": 2
            },
            "text/plain": [
              "  0%|          | 0/4422102 [00:00<?, ?it/s]"
            ]
          },
          "metadata": {}
        },
        {
          "output_type": "stream",
          "name": "stdout",
          "text": [
            "Extracting ../data/FashionMNIST/raw/t10k-images-idx3-ubyte.gz to ../data/FashionMNIST/raw\n",
            "\n",
            "Downloading http://fashion-mnist.s3-website.eu-central-1.amazonaws.com/t10k-labels-idx1-ubyte.gz\n",
            "Downloading http://fashion-mnist.s3-website.eu-central-1.amazonaws.com/t10k-labels-idx1-ubyte.gz to ../data/FashionMNIST/raw/t10k-labels-idx1-ubyte.gz\n"
          ]
        },
        {
          "output_type": "display_data",
          "data": {
            "application/vnd.jupyter.widget-view+json": {
              "model_id": "972f584b5a824b93b917749b9a5ab30f",
              "version_minor": 0,
              "version_major": 2
            },
            "text/plain": [
              "  0%|          | 0/5148 [00:00<?, ?it/s]"
            ]
          },
          "metadata": {}
        },
        {
          "output_type": "stream",
          "name": "stdout",
          "text": [
            "Extracting ../data/FashionMNIST/raw/t10k-labels-idx1-ubyte.gz to ../data/FashionMNIST/raw\n",
            "\n",
            "training on cpu\n"
          ]
        },
        {
          "output_type": "stream",
          "name": "stderr",
          "text": [
            "/usr/local/lib/python3.7/dist-packages/torch/utils/data/dataloader.py:481: UserWarning: This DataLoader will create 4 worker processes in total. Our suggested max number of worker in current system is 2, which is smaller than what this DataLoader is going to create. Please be aware that excessive worker creation might get DataLoader running slow or even freeze, lower the worker number to avoid potential slowness/freeze if necessary.\n",
            "  cpuset_checked))\n"
          ]
        }
      ]
    },
    {
      "cell_type": "markdown",
      "source": [
        "Output cell [10]:\n",
        "\n",
        "![image.png](data:image/png;base64,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)"
      ],
      "metadata": {
        "id": "dUILjmJDldUE"
      }
    },
    {
      "cell_type": "markdown",
      "source": [
        "## Summary\n",
        "* Nested function classes are desirable. Learning an additional layer in deep neural networks as an identity function (though this is an extreme case) should be made easy.\n",
        "\n",
        "* The residual mapping can learn the identity function more easily, such as pushing parameters in the weight layer to zero.\n",
        "\n",
        "* We can train an effective deep neural network by having residual blocks. Inputs can forward propagate faster through the residual connections across layers.\n",
        "\n",
        "* ResNet had a major influence on the design of subsequent deep neural networks, both for convolutional and sequential nature."
      ],
      "metadata": {
        "id": "AJGBPoyCQ_K7"
      }
    }
  ]
}